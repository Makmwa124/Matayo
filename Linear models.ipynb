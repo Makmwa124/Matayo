{
  "nbformat": 4,
  "nbformat_minor": 0,
  "metadata": {
    "colab": {
      "name": "Untitled0.ipynb",
      "provenance": [],
      "collapsed_sections": [],
      "toc_visible": true,
      "authorship_tag": "ABX9TyN924R2GYeDjXqsSoBJVW7y",
      "include_colab_link": true
    },
    "kernelspec": {
      "name": "python3",
      "display_name": "Python 3"
    },
    "language_info": {
      "name": "python"
    }
  },
  "cells": [
    {
      "cell_type": "markdown",
      "metadata": {
        "id": "view-in-github",
        "colab_type": "text"
      },
      "source": [
        "<a href=\"https://colab.research.google.com/github/Makmwa124/Matayo/blob/master/Linear%20models.ipynb\" target=\"_parent\"><img src=\"https://colab.research.google.com/assets/colab-badge.svg\" alt=\"Open In Colab\"/></a>"
      ]
    },
    {
      "cell_type": "markdown",
      "metadata": {
        "id": "zcVu5pFngFGe"
      },
      "source": [
        "# Linear Models\n",
        "## Ordinary Least Squares\n"
      ]
    },
    {
      "cell_type": "markdown",
      "metadata": {
        "id": "8ANuqktJif2P"
      },
      "source": [
        "## Import libraries\n"
      ]
    },
    {
      "cell_type": "code",
      "metadata": {
        "id": "jhudQi_niX0D"
      },
      "source": [
        "import matplotlib.pyplot as plt\n",
        "import numpy as np\n",
        "from sklearn import linear_model, datasets\n",
        "from sklearn.metrics import mean_squared_error, r2_score"
      ],
      "execution_count": null,
      "outputs": []
    },
    {
      "cell_type": "markdown",
      "metadata": {
        "id": "9yFX7ZWkjmsk"
      },
      "source": [
        "## Load the diabetes dataset"
      ]
    },
    {
      "cell_type": "code",
      "metadata": {
        "id": "xnWAv4nBjsj8"
      },
      "source": [
        "diabetes_X, diabetes_y =datasets.load_diabetes(return_X_y=True)"
      ],
      "execution_count": null,
      "outputs": []
    },
    {
      "cell_type": "markdown",
      "metadata": {
        "id": "k2Cpx6NoD1Y_"
      },
      "source": [
        "Use only one feature\n"
      ]
    },
    {
      "cell_type": "code",
      "metadata": {
        "id": "3RirQIL_Dzn2"
      },
      "source": [
        "diabetes_X=diabetes_X[:,np.newaxis,2]"
      ],
      "execution_count": null,
      "outputs": []
    },
    {
      "cell_type": "markdown",
      "metadata": {
        "id": "1CjqB3rYEmsa"
      },
      "source": [
        "## split the dataset into train and test set"
      ]
    },
    {
      "cell_type": "code",
      "metadata": {
        "id": "wraFX1bAEsEL"
      },
      "source": [
        "diabetes_X_train=diabetes_X[:-20]\n",
        "diabetes_X_test=diabetes_X[-20:]\n",
        "\n",
        "diabetes_y_train=diabetes_y[:-20]\n",
        "diabetes_y_test=diabetes_y[-20:]"
      ],
      "execution_count": null,
      "outputs": []
    },
    {
      "cell_type": "markdown",
      "metadata": {
        "id": "dthlMiLCFgZX"
      },
      "source": [
        "## Create linear regression object"
      ]
    },
    {
      "cell_type": "code",
      "metadata": {
        "id": "_8AgZpo0FkJ5"
      },
      "source": [
        "regr=linear_model.LinearRegression()"
      ],
      "execution_count": null,
      "outputs": []
    },
    {
      "cell_type": "markdown",
      "metadata": {
        "id": "WcWRoRyvikix"
      },
      "source": [
        "## Fit the linear regression models"
      ]
    },
    {
      "cell_type": "code",
      "metadata": {
        "colab": {
          "base_uri": "https://localhost:8080/"
        },
        "id": "gHbZvQ16gKui",
        "outputId": "d77f9950-fe31-489b-bf9f-e79ab6da2325"
      },
      "source": [
        "regr.fit(diabetes_X_train,diabetes_y_train)"
      ],
      "execution_count": null,
      "outputs": [
        {
          "output_type": "execute_result",
          "data": {
            "text/plain": [
              "LinearRegression(copy_X=True, fit_intercept=True, n_jobs=None, normalize=False)"
            ]
          },
          "metadata": {
            "tags": []
          },
          "execution_count": 19
        }
      ]
    },
    {
      "cell_type": "markdown",
      "metadata": {
        "id": "23ptsJV1F86F"
      },
      "source": [
        "Make prediction"
      ]
    },
    {
      "cell_type": "code",
      "metadata": {
        "id": "ynj-LOlgGCdA"
      },
      "source": [
        "diabetes_pred=regr.predict(diabetes_X_test)"
      ],
      "execution_count": null,
      "outputs": []
    },
    {
      "cell_type": "markdown",
      "metadata": {
        "id": "IqhR_w7_Gfkq"
      },
      "source": [
        "## Print out the coefficients"
      ]
    },
    {
      "cell_type": "code",
      "metadata": {
        "colab": {
          "base_uri": "https://localhost:8080/"
        },
        "id": "6PO1TF6vGjTo",
        "outputId": "b92a193e-73ac-406b-d6fa-6fa738e65538"
      },
      "source": [
        "print('Coefficients \\n',regr.coef_)"
      ],
      "execution_count": null,
      "outputs": [
        {
          "output_type": "stream",
          "text": [
            "Coefficients \n",
            " [938.23786125]\n"
          ],
          "name": "stdout"
        }
      ]
    },
    {
      "cell_type": "markdown",
      "metadata": {
        "id": "A_AoWTjvG7_l"
      },
      "source": [
        "## Mean squared error"
      ]
    },
    {
      "cell_type": "code",
      "metadata": {
        "colab": {
          "base_uri": "https://localhost:8080/"
        },
        "id": "otKLb1N-G_nU",
        "outputId": "41514c90-361f-4885-ea55-1ea1521928d7"
      },
      "source": [
        "print('Mean Squared error: %.2f'\n",
        "%mean_squared_error(diabetes_y_test,diabetes_pred))"
      ],
      "execution_count": null,
      "outputs": [
        {
          "output_type": "stream",
          "text": [
            "Mean Squared error: 2548.07\n"
          ],
          "name": "stdout"
        }
      ]
    },
    {
      "cell_type": "markdown",
      "metadata": {
        "id": "tkgxj9XPHt5D"
      },
      "source": [
        "## The coefficient of Determination"
      ]
    },
    {
      "cell_type": "code",
      "metadata": {
        "colab": {
          "base_uri": "https://localhost:8080/"
        },
        "id": "gh2AsG1OHykH",
        "outputId": "61cf1ce7-ccd8-444a-d1a0-c34be5e93f36"
      },
      "source": [
        "print('Coefficient of determination: %.2f'\n",
        "%r2_score(diabetes_y_test,diabetes_pred))"
      ],
      "execution_count": null,
      "outputs": [
        {
          "output_type": "stream",
          "text": [
            "Coefficient of determination: 0.47\n"
          ],
          "name": "stdout"
        }
      ]
    },
    {
      "cell_type": "markdown",
      "metadata": {
        "id": "ilNFxbgjIMkF"
      },
      "source": [
        "## Plot the output"
      ]
    },
    {
      "cell_type": "code",
      "metadata": {
        "colab": {
          "base_uri": "https://localhost:8080/",
          "height": 252
        },
        "id": "f37a75MxIPEc",
        "outputId": "4b405af6-5217-497a-c593-31ff5332ca77"
      },
      "source": [
        "plt.scatter(diabetes_X_test,diabetes_y_test, color='black')\n",
        "\n",
        "plt.plot(diabetes_X_test,diabetes_pred,color='blue',linewidth=3)\n",
        "plt.xticks(())\n",
        "plt.yticks(())\n",
        "\n",
        "plt.show()\n"
      ],
      "execution_count": null,
      "outputs": [
        {
          "output_type": "display_data",
          "data": {
            "image/png": "[encoded data removed]",
            "text/plain": [
              "<Figure size 432x288 with 1 Axes>"
            ]
          },
          "metadata": {
            "tags": []
          }
        }
      ]
    },
    {
      "cell_type": "markdown",
      "metadata": {
        "id": "MNqWdPZ_c-2Y"
      },
      "source": [
        "# Non-Negative Least Squares"
      ]
    },
    {
      "cell_type": "markdown",
      "metadata": {
        "id": "16KI_S5zddGf"
      },
      "source": [
        "Here, we constrain all coefficients to be non-negative, for instance when they represent some physical or natural non-negative quantities. *LinearRegression* accepts boolean *positive* parameters when set to *True*.\n",
        "\n",
        "\n",
        "\n"
      ]
    },
    {
      "cell_type": "markdown",
      "metadata": {
        "id": "wrqnKgVHfJSS"
      },
      "source": [
        "## Import libraries"
      ]
    },
    {
      "cell_type": "code",
      "metadata": {
        "id": "_Jt6qLFBe8iF"
      },
      "source": [
        "import numpy as np\n",
        "import matplotlib.pyplot as plt\n",
        "from sklearn.metrics import r2_score"
      ],
      "execution_count": 1,
      "outputs": []
    },
    {
      "cell_type": "markdown",
      "metadata": {
        "id": "BKJ95XA1fvBA"
      },
      "source": [
        "## Generate random data"
      ]
    },
    {
      "cell_type": "code",
      "metadata": {
        "id": "7AdDDzR_f1Ok"
      },
      "source": [
        "np.random.seed(42)\n",
        "n_sample, n_features =200,50\n",
        "\n",
        "X =np.random.randn(n_sample,n_features)\n",
        "true_coef=3*np.random.randn(n_features)\n",
        "\n",
        "# Threshold coefficient to render them non-negative\n",
        "true_coef[true_coef<0]=0\n",
        "y=np.dot(X,true_coef)\n",
        "\n",
        "# Add some noise\n",
        "y +=5*np.random.normal(size=(n_sample,))"
      ],
      "execution_count": 7,
      "outputs": []
    },
    {
      "cell_type": "markdown",
      "metadata": {
        "id": "InwMVT-3kpZU"
      },
      "source": [
        "## Split the data into train and test set"
      ]
    },
    {
      "cell_type": "code",
      "metadata": {
        "id": "dPpS2Obwk8f1"
      },
      "source": [
        "from sklearn.model_selection import train_test_split\n",
        "X_train,X_test,y_train,y_test = train_test_split(X,y,test_size=0.5)"
      ],
      "execution_count": 10,
      "outputs": []
    },
    {
      "cell_type": "markdown",
      "metadata": {
        "id": "UJREyjJY6dli"
      },
      "source": [
        "### Fit the Non-Negative least squares"
      ]
    },
    {
      "cell_type": "code",
      "metadata": {
        "id": "Y58E22Db6f3-",
        "outputId": "8bdfef09-ed3d-48f7-ae5b-8ea355947a96",
        "colab": {
          "base_uri": "https://localhost:8080/",
          "height": 214
        }
      },
      "source": [
        "from sklearn.linear_model import LinearRegression\n",
        "reg_nnls = LinearRegression(positive=True)\n",
        "\n",
        "\n"
      ],
      "execution_count": 27,
      "outputs": [
        {
          "output_type": "error",
          "ename": "TypeError",
          "evalue": "ignored",
          "traceback": [
            "\u001b[0;31m---------------------------------------------------------------------------\u001b[0m",
            "\u001b[0;31mTypeError\u001b[0m                                 Traceback (most recent call last)",
            "\u001b[0;32m<ipython-input-27-3530601a4d80>\u001b[0m in \u001b[0;36m<module>\u001b[0;34m()\u001b[0m\n\u001b[1;32m      1\u001b[0m \u001b[0;32mfrom\u001b[0m \u001b[0msklearn\u001b[0m\u001b[0;34m.\u001b[0m\u001b[0mlinear_model\u001b[0m \u001b[0;32mimport\u001b[0m \u001b[0mLinearRegression\u001b[0m\u001b[0;34m\u001b[0m\u001b[0;34m\u001b[0m\u001b[0m\n\u001b[0;32m----> 2\u001b[0;31m \u001b[0mreg_nnls\u001b[0m \u001b[0;34m=\u001b[0m \u001b[0mLinearRegression\u001b[0m\u001b[0;34m(\u001b[0m\u001b[0mpositive\u001b[0m\u001b[0;34m=\u001b[0m\u001b[0;32mTrue\u001b[0m\u001b[0;34m)\u001b[0m\u001b[0;34m\u001b[0m\u001b[0;34m\u001b[0m\u001b[0m\n\u001b[0m\u001b[1;32m      3\u001b[0m \u001b[0;34m\u001b[0m\u001b[0m\n\u001b[1;32m      4\u001b[0m \u001b[0;34m\u001b[0m\u001b[0m\n",
            "\u001b[0;31mTypeError\u001b[0m: __init__() got an unexpected keyword argument 'positive'"
          ]
        }
      ]
    },
    {
      "cell_type": "code",
      "metadata": {
        "id": "9wlxOAnz98-4",
        "outputId": "d7af895e-4649-4359-9f25-32b5926c7d44",
        "colab": {
          "base_uri": "https://localhost:8080/",
          "height": 323
        }
      },
      "source": [
        "\n",
        "!pip uninstall scikit-learn -y\n",
        "\n",
        "!pip install -U scikit-learn"
      ],
      "execution_count": 30,
      "outputs": [
        {
          "output_type": "stream",
          "text": [
            "Found existing installation: scikit-learn 0.22.2.post1\n",
            "Uninstalling scikit-learn-0.22.2.post1:\n",
            "  Successfully uninstalled scikit-learn-0.22.2.post1\n",
            "Collecting scikit-learn\n",
            "  Downloading scikit_learn-0.24.2-cp37-cp37m-manylinux2010_x86_64.whl (22.3 MB)\n",
            "\u001b[K     |████████████████████████████████| 22.3 MB 1.5 MB/s \n",
            "\u001b[?25hRequirement already satisfied: numpy>=1.13.3 in /usr/local/lib/python3.7/dist-packages (from scikit-learn) (1.19.5)\n",
            "Requirement already satisfied: scipy>=0.19.1 in /usr/local/lib/python3.7/dist-packages (from scikit-learn) (1.4.1)\n",
            "Requirement already satisfied: joblib>=0.11 in /usr/local/lib/python3.7/dist-packages (from scikit-learn) (1.0.1)\n",
            "Collecting threadpoolctl>=2.0.0\n",
            "  Downloading threadpoolctl-2.2.0-py3-none-any.whl (12 kB)\n",
            "Installing collected packages: threadpoolctl, scikit-learn\n",
            "Successfully installed scikit-learn-0.24.2 threadpoolctl-2.2.0\n"
          ],
          "name": "stdout"
        },
        {
          "output_type": "display_data",
          "data": {
            "application/vnd.colab-display-data+json": {
              "pip_warning": {
                "packages": [
                  "sklearn"
                ]
              }
            }
          },
          "metadata": {
            "tags": []
          }
        }
      ]
    }
  ]
}